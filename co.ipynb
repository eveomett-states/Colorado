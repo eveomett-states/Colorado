{
 "cells": [
  {
   "cell_type": "code",
   "execution_count": 1,
   "id": "49a264d4-c255-4393-b5ae-74b6f7c645da",
   "metadata": {},
   "outputs": [
    {
     "name": "stderr",
     "output_type": "stream",
     "text": [
      "/opt/anaconda3/lib/python3.9/site-packages/pandas/core/computation/expressions.py:21: UserWarning: Pandas requires version '2.8.4' or newer of 'numexpr' (version '2.8.1' currently installed).\n",
      "  from pandas.core.computation.check import NUMEXPR_INSTALLED\n",
      "/opt/anaconda3/lib/python3.9/site-packages/pandas/core/arrays/masked.py:60: UserWarning: Pandas requires version '1.3.6' or newer of 'bottleneck' (version '1.3.4' currently installed).\n",
      "  from pandas.core import (\n"
     ]
    }
   ],
   "source": [
    "import pandas as pd\n",
    "import geopandas as gpd\n",
    "import maup\n",
    "import time\n",
    "from maup import smart_repair\n",
    "from gerrychain import Graph\n",
    "import os\n",
    "\n",
    "import warnings\n",
    "warnings.filterwarnings(\"ignore\")\n",
    "\n",
    "maup.progress.enabled = True"
   ]
  },
  {
   "cell_type": "code",
   "execution_count": 2,
   "id": "55545525-1a53-4366-88fa-4b4ecc94ecad",
   "metadata": {},
   "outputs": [],
   "source": [
    "# parameters\n",
    "# state = Colorado\n",
    "state_ab = \"co\""
   ]
  },
  {
   "cell_type": "markdown",
   "id": "c3e1bdeb-55c5-4c10-83b5-de352e6d559d",
   "metadata": {},
   "source": [
    "# Data\n",
    "1. Download all the data in directory \"il_data\"\n",
    "2. Eextract them all"
   ]
  },
  {
   "cell_type": "code",
   "execution_count": 3,
   "id": "1cbb32f0-472b-4441-abf2-6af58699cb5f",
   "metadata": {},
   "outputs": [],
   "source": [
    "data_folder = state_ab + \"_data/\"\n",
    "population1_data = \"./{}{}_pl2020_b/{}_pl2020_p1_b.shp\".format(data_folder, state_ab, state_ab)\n",
    "population2_data = \"./{}{}_pl2020_b/{}_pl2020_p2_b.shp\".format(data_folder, state_ab, state_ab)\n",
    "vap_data =  \"./{}{}_pl2020_b/{}_pl2020_p4_b.shp\".format(data_folder, state_ab, state_ab)\n",
    "vest20_data = \"./{}{}_vest_20/{}_vest_20.shp\".format(data_folder, state_ab, state_ab)\n",
    "vest18_data = \"./{}{}_vest_18/{}_vest_18.shp\".format(data_folder, state_ab, state_ab)\n",
    "vest16_data = \"./{}{}_vest_16/{}_vest_16.shp\".format(data_folder, state_ab, state_ab)\n",
    "cd_data = \"./{}{}_cong_adopted_2021/2021_Approved_Congressional_Plan_w_Final_Adjustments.shp\".format(data_folder, state_ab)\n",
    "send_data = \"./{}{}_sldu_adopted_2021/2021_Approved_Senate_Plan_w_Final_Adjustments.shp\".format(data_folder, state_ab)\n",
    "hdist_data = \"./{}{}_sldl_adopted_2021/2021_Approved_House_Plan_w_Final_Adjustments.shp\".format(data_folder, state_ab)"
   ]
  },
  {
   "cell_type": "code",
   "execution_count": 4,
   "id": "378425b3-9819-41bd-8212-2e031b571cf2",
   "metadata": {},
   "outputs": [],
   "source": [
    "def do_smart_repair(df):\n",
    "    # change it to the UTM it needs for smart_repair\n",
    "    df = df.to_crs(df.estimate_utm_crs())\n",
    "    df = smart_repair(df, disconnection_threshold=0, snap_precision=8)\n",
    "    \n",
    "    # check maup doctor again to see if smart repair works\n",
    "    if maup.doctor(df) == True:\n",
    "        # change it back to this UTM for this data\n",
    "        df = df.to_crs('EPSG:4269')\n",
    "    else:\n",
    "        raise Exception('maup.doctor failed')\n",
    "    \n",
    "    return df"
   ]
  },
  {
   "cell_type": "code",
   "execution_count": 25,
   "id": "df3945da-c3af-41a8-9511-a5aba33fef0b",
   "metadata": {},
   "outputs": [],
   "source": [
    "def add_district(dist_df, dist_name, election_df, col_name):\n",
    "    # check if it needs to be smart_repair\n",
    "    if maup.doctor(dist_df) != True:\n",
    "        dist_df = do_smart_repair(dist_df)\n",
    "\n",
    "    election_df = gpd.GeoDataFrame(election_df, crs=\"EPSG:4269\")\n",
    "\n",
    "    # assigne the pricincts\n",
    "    precincts_to_district_assignment = maup.assign(election_df.geometry, dist_df.geometry)\n",
    "    election_df[dist_name] = precincts_to_district_assignment\n",
    "    for precinct_index in range(len(election_df)):\n",
    "        election_df.at[precinct_index, dist_name] = dist_df.at[election_df.at[precinct_index, dist_name], col_name]\n",
    "\n",
    "    return election_df"
   ]
  },
  {
   "cell_type": "code",
   "execution_count": 6,
   "id": "29c38a31-6707-4ab3-a9e4-38d69ce6838c",
   "metadata": {},
   "outputs": [],
   "source": [
    "def rename(original, year):\n",
    "    party = original[6]\n",
    "    if party == 'R' or party == 'D':\n",
    "        return original[3:6] + year + original[6]\n",
    "    else:\n",
    "        return original[3:6] + year + 'O'"
   ]
  },
  {
   "cell_type": "code",
   "execution_count": 23,
   "id": "983b0c32-dded-4adf-9b2d-583378cb236f",
   "metadata": {},
   "outputs": [],
   "source": [
    "def check_population(population, df):\n",
    "    pop_check = pd.DataFrame({\n",
    "        'pop_col': pop_col,\n",
    "        'population_df': population[pop_col].sum(), \n",
    "        'vest_base': df[pop_col].sum(),\n",
    "        'equal': [x == y for x, y in zip(population[pop_col].sum(), df[pop_col].sum())]\n",
    "    })\n",
    "    if pop_check['equal'].mean() < 1:\n",
    "        print(pop_check)\n",
    "        raise Exception(\"population doesn't agree\")\n",
    "\n",
    "    else:\n",
    "        print(\"population agrees\")"
   ]
  },
  {
   "cell_type": "code",
   "execution_count": 24,
   "id": "c4508baf-84cd-4a31-97ad-059164232e8e",
   "metadata": {},
   "outputs": [],
   "source": [
    "def add_vest(vest, df, year, population, start_col):    \n",
    "     # check if it needs to be smart_repair\n",
    "    if maup.doctor(vest) != True:\n",
    "        vest = do_smart_repair(vest)\n",
    "    \n",
    "    # rename the columns\n",
    "    original_col = vest.columns[start_col:-1]\n",
    "    new_col = [rename(i, year) for i in original_col]\n",
    "    rename_dict = dict(zip(original_col, new_col))\n",
    "    vest = vest.rename(columns=rename_dict)\n",
    "    vest = vest.groupby(level=0, axis=1).sum() # combine all the other party's vote into columns with sufix \"O\"\n",
    "    col_name = list(set(new_col))\n",
    "    col_name.sort()\n",
    "    \n",
    "    # make the blocks from precincts by weight\n",
    "    vest = gpd.GeoDataFrame(vest, crs=\"EPSG:4269\")\n",
    "    election_in_block = population[[\"VAP\", 'geometry']] # population_df is in block scale\n",
    "    blocks_to_precincts_assignment = maup.assign(election_in_block.geometry, vest.geometry)\n",
    "    weights = election_in_block[\"VAP\"] / blocks_to_precincts_assignment.map(election_in_block[\"VAP\"].groupby(blocks_to_precincts_assignment).sum())\n",
    "    weights = weights.fillna(0)\n",
    "    prorated = maup.prorate(blocks_to_precincts_assignment, vest[col_name], weights)\n",
    "    election_in_block[col_name] = prorated\n",
    "    \n",
    "    # assign blocks to precincts\n",
    "    election_in_block = gpd.GeoDataFrame(election_in_block, crs=\"EPSG:4269\")\n",
    "    df = gpd.GeoDataFrame(df, crs=\"EPSG:4269\")\n",
    "    block_to_pricinct_assginment = maup.assign(election_in_block.geometry, df.geometry)\n",
    "    df[col_name] = election_in_block[col_name].groupby(block_to_pricinct_assginment).sum()\n",
    "    df = df.groupby(level=0, axis=1).sum()\n",
    "    \n",
    "    # check if population agrees\n",
    "    check_population(population, df)\n",
    "    \n",
    "    return df"
   ]
  },
  {
   "cell_type": "markdown",
   "id": "ab6ce8f5-f237-4d6c-8425-cd8a0b080f65",
   "metadata": {},
   "source": [
    "## Read the census data"
   ]
  },
  {
   "cell_type": "code",
   "execution_count": 8,
   "id": "185d2b84-d37f-4f24-86c1-1bcd0b4347e2",
   "metadata": {},
   "outputs": [],
   "source": [
    "population1_df = gpd.read_file(population1_data)\n",
    "population2_df = gpd.read_file(population2_data)\n",
    "vap_df = gpd.read_file(vap_data)"
   ]
  },
  {
   "cell_type": "code",
   "execution_count": 9,
   "id": "57b3b9bb-9721-469d-8eee-0dd5eb0e6015",
   "metadata": {},
   "outputs": [],
   "source": [
    "population2_df = population2_df.drop(columns=['SUMLEV', 'LOGRECNO', 'GEOID', 'COUNTY', 'geometry'])\n",
    "vap_df = vap_df.drop(columns=['SUMLEV', 'LOGRECNO', 'GEOID', 'COUNTY', 'geometry'])"
   ]
  },
  {
   "cell_type": "code",
   "execution_count": 10,
   "id": "daa935f7-bc02-4856-adb0-9cc9cf31ffca",
   "metadata": {},
   "outputs": [],
   "source": [
    "population_df = pd.merge(population1_df, population2_df, on='GEOID20')\n",
    "population_df = pd.merge(population_df, vap_df, on='GEOID20')"
   ]
  },
  {
   "cell_type": "code",
   "execution_count": 11,
   "id": "9550a841-5692-4d5f-a7f1-131d53eb9f12",
   "metadata": {},
   "outputs": [],
   "source": [
    "rename_dict = {'P0020001': 'TOTPOP', 'P0020002': 'HISP', 'P0020005': 'NH_WHITE', 'P0020006': 'NH_BLACK', 'P0020007': 'NH_AMIN',\n",
    "               'P0020008': 'NH_ASIAN', 'P0020009': 'NH_NHPI', 'P0020010': 'NH_OTHER', 'P0020011': 'NH_2MORE',\n",
    "               'P0040001': 'VAP', 'P0040002': 'HVAP', 'P0040005': 'WVAP', 'P0040006': 'BVAP', 'P0040007': 'AMINVAP',\n",
    "               'P0040008': 'ASIANVAP', 'P0040009': 'NHPIVAP', 'P0040010': 'OTHERVAP', 'P0040011': '2MOREVAP'}"
   ]
  },
  {
   "cell_type": "code",
   "execution_count": 12,
   "id": "38b05b55-cd5f-4c31-b9c2-5f3c50d92228",
   "metadata": {},
   "outputs": [],
   "source": [
    "population_df.rename(columns=rename_dict, inplace = True)"
   ]
  },
  {
   "cell_type": "code",
   "execution_count": 13,
   "id": "0845f50e-9920-404a-8284-c47df7b0f6ce",
   "metadata": {},
   "outputs": [],
   "source": [
    "population_df['H_WHITE'] = population_df.apply(lambda t: t['P0010003'] - t['NH_WHITE'], 1)\n",
    "population_df['H_BLACK'] = population_df.apply(lambda t: t['P0010004'] - t['NH_BLACK'], 1)\n",
    "population_df['H_AMIN'] = population_df.apply(lambda t: t['P0010005'] - t['NH_AMIN'], 1)\n",
    "population_df['H_ASIAN'] = population_df.apply(lambda t: t['P0010006'] - t['NH_ASIAN'], 1)\n",
    "population_df['H_NHPI'] = population_df.apply(lambda t: t['P0010007'] - t['NH_NHPI'], 1)\n",
    "population_df['H_OTHER'] = population_df.apply(lambda t: t['P0010008'] - t['NH_OTHER'], 1)\n",
    "population_df['H_2MORE'] = population_df.apply(lambda t: t['P0010009'] - t['NH_2MORE'], 1)"
   ]
  },
  {
   "cell_type": "code",
   "execution_count": 14,
   "id": "4d4f9723-ad23-46ff-bbd0-8d4ab628b69b",
   "metadata": {},
   "outputs": [],
   "source": [
    "population_df.rename(columns=rename_dict, inplace = True)"
   ]
  },
  {
   "cell_type": "markdown",
   "id": "e1e89689-06e1-4937-9bee-b0442bfc33d5",
   "metadata": {},
   "source": [
    "# Read the base vest data\n",
    "Now using it as a \"base precinct\", but it could be vest 18 or vest 16 if vest 20 is not working"
   ]
  },
  {
   "cell_type": "code",
   "execution_count": 15,
   "id": "53093879-83b5-43bc-bbba-97fe9df2cbe3",
   "metadata": {},
   "outputs": [],
   "source": [
    "def add_vest_base(vest, start_col, year):\n",
    "    original_col = vest.columns[start_col:-1]\n",
    "    new_col = [rename(i, year) for i in original_col]\n",
    "    rename_dict = dict(zip(original_col, new_col))\n",
    "    vest = vest.rename(columns=rename_dict)\n",
    "    vest = vest.groupby(level=0, axis=1).sum()\n",
    "    vest = gpd.GeoDataFrame(vest, crs=\"EPSG:4269\")\n",
    "    \n",
    "    return vest"
   ]
  },
  {
   "cell_type": "markdown",
   "id": "f9e52ca7-af9d-4cbd-bb02-ebc39357a8f4",
   "metadata": {},
   "source": [
    "### Check if vest 20 can be used as base"
   ]
  },
  {
   "cell_type": "code",
   "execution_count": 16,
   "id": "397e9936-bfde-4b09-9dcb-207733dfb2dd",
   "metadata": {},
   "outputs": [
    {
     "name": "stderr",
     "output_type": "stream",
     "text": [
      "100%|████████████████████████████████████████| 3215/3215 [00:11<00:00, 275.89it/s]\n"
     ]
    },
    {
     "name": "stdout",
     "output_type": "stream",
     "text": [
      "There are 1436 overlaps.\n",
      "There are 8880 holes.\n",
      "Snapping all geometries to a grid with precision 10^( -3 ) to avoid GEOS errors.\n",
      "Identifying overlaps...\n"
     ]
    },
    {
     "name": "stderr",
     "output_type": "stream",
     "text": [
      "100%|█████████████████████████████████████| 11234/11234 [00:07<00:00, 1457.96it/s]\n"
     ]
    },
    {
     "name": "stdout",
     "output_type": "stream",
     "text": [
      "Resolving overlaps...\n",
      "Assigning order 2 pieces...\n",
      "Assigning order 3 pieces...\n",
      "Filling gaps...\n"
     ]
    },
    {
     "name": "stderr",
     "output_type": "stream",
     "text": [
      "Gaps to simplify: 100%|███████████████████████| 3804/3804 [33:20<00:00,  1.90it/s]\n",
      "Gaps to fill: 100%|█████████████████████████████| 528/528 [05:04<00:00,  1.73it/s]\n"
     ]
    },
    {
     "name": "stdout",
     "output_type": "stream",
     "text": [
      "WARNING: A component of the geometry at index 2554 may have been disconnected!\n"
     ]
    },
    {
     "name": "stderr",
     "output_type": "stream",
     "text": [
      "100%|████████████████████████████████████████| 3215/3215 [00:09<00:00, 331.88it/s]\n"
     ]
    }
   ],
   "source": [
    "vest20 = gpd.read_file(vest20_data)\n",
    "if maup.doctor(vest20) != True:\n",
    "    vest20 = do_smart_repair(vest20)"
   ]
  },
  {
   "cell_type": "code",
   "execution_count": 17,
   "id": "f56ca9cd-ac63-4933-be5c-d9c78f5aef4a",
   "metadata": {},
   "outputs": [
    {
     "data": {
      "text/plain": [
       "Index(['STATEFP', 'COUNTYFP', 'VTDST', 'NAME', 'PRECINCT', 'G20PREDBID',\n",
       "       'G20PRERTRU', 'G20PRELJOR', 'G20PREGHAW', 'G20PRECBLA', 'G20PREUWES',\n",
       "       'G20PREOOTH', 'G20USSDHIC', 'G20USSRGAR', 'G20USSLDOA', 'G20USSODOY',\n",
       "       'G20USSOEVA', 'G20USSOWRI', 'geometry'],\n",
       "      dtype='object')"
      ]
     },
     "execution_count": 17,
     "metadata": {},
     "output_type": "execute_result"
    }
   ],
   "source": [
    "vest20.columns"
   ]
  },
  {
   "cell_type": "markdown",
   "id": "769f5d01-e0bf-45ec-8960-40bafb6be3ad",
   "metadata": {},
   "source": [
    "## Parameters that need to be checked"
   ]
  },
  {
   "cell_type": "code",
   "execution_count": 18,
   "id": "b151eb70-6896-4f34-ab89-28ca415f3e08",
   "metadata": {},
   "outputs": [],
   "source": [
    "start_col = 5\n",
    "vest_base_data = vest20\n",
    "year = '20'"
   ]
  },
  {
   "cell_type": "code",
   "execution_count": 19,
   "id": "36d7c53e-1c86-4752-91db-06bd52b94188",
   "metadata": {},
   "outputs": [
    {
     "name": "stderr",
     "output_type": "stream",
     "text": [
      "100%|████████████████████████████████████████| 3215/3215 [00:08<00:00, 390.09it/s]\n",
      "100%|█████████████████████████████████████████| 3215/3215 [01:13<00:00, 43.70it/s]\n"
     ]
    }
   ],
   "source": [
    "vest_base = add_vest_base(vest_base_data, start_col, year)\n",
    "\n",
    "# vap and population have the same GEOID20\n",
    "blocks_to_precincts_assignment = maup.assign(population_df.geometry, vest_base.geometry)"
   ]
  },
  {
   "cell_type": "code",
   "execution_count": 20,
   "id": "2621cc1d-a8a4-4a0c-a895-fe4c278b81b5",
   "metadata": {},
   "outputs": [],
   "source": [
    "pop_col = ['TOTPOP', 'HISP', 'NH_WHITE', 'NH_BLACK', 'NH_AMIN', 'NH_ASIAN', 'NH_NHPI', 'NH_OTHER', 'NH_2MORE', 'H_WHITE', 'H_BLACK', 'H_AMIN', 'H_ASIAN', 'H_NHPI', 'H_OTHER', 'H_2MORE', 'VAP', 'HVAP', 'WVAP', 'BVAP', 'AMINVAP', 'ASIANVAP', 'NHPIVAP', 'OTHERVAP', '2MOREVAP']\n",
    "vest_base[pop_col] = population_df[pop_col].groupby(blocks_to_precincts_assignment).sum()"
   ]
  },
  {
   "cell_type": "code",
   "execution_count": 21,
   "id": "2bd57020-6f3f-4de8-b21e-4691dd2fb727",
   "metadata": {},
   "outputs": [],
   "source": [
    "election_df = gpd.GeoDataFrame(vest_base, crs=\"EPSG:4269\")"
   ]
  },
  {
   "cell_type": "code",
   "execution_count": 26,
   "id": "9568a858-9fb7-49cc-b634-6cd6aad40a6d",
   "metadata": {},
   "outputs": [
    {
     "name": "stdout",
     "output_type": "stream",
     "text": [
      "population agrees\n"
     ]
    }
   ],
   "source": [
    "check_population(population_df, vest_base)"
   ]
  },
  {
   "cell_type": "markdown",
   "id": "0da02e43-0175-4e9c-848d-b225812a04ef",
   "metadata": {},
   "source": [
    "# Add more vest data\n",
    "### vest 18"
   ]
  },
  {
   "cell_type": "code",
   "execution_count": 27,
   "id": "a404637a-46a1-41f4-bd81-6842a9a7274c",
   "metadata": {},
   "outputs": [
    {
     "data": {
      "text/plain": [
       "Index(['STATEFP', 'COUNTYFP', 'VTDST', 'NAME', 'PRECINCT', 'G18GOVDPOL',\n",
       "       'G18GOVRSTA', 'G18GOVLHEL', 'G18GOVOHAM', 'G18ATGDWEI', 'G18ATGRBRA',\n",
       "       'G18ATGLROB', 'G18SOSDGRI', 'G18SOSRWIL', 'G18SOSCCAM', 'G18SOSOHUB',\n",
       "       'G18TREDYOU', 'G18TRERWAT', 'G18TRECKIL', 'G18RGTDSMI', 'G18RGTRMON',\n",
       "       'G18RGTLTRE', 'G18RGTOOTW', 'geometry'],\n",
       "      dtype='object')"
      ]
     },
     "execution_count": 27,
     "metadata": {},
     "output_type": "execute_result"
    }
   ],
   "source": [
    "vest18 = gpd.read_file(vest18_data)\n",
    "vest18.columns"
   ]
  },
  {
   "cell_type": "code",
   "execution_count": 28,
   "id": "5528f64a-1b5c-4b9f-b7cf-aefa45d4d25f",
   "metadata": {},
   "outputs": [
    {
     "name": "stderr",
     "output_type": "stream",
     "text": [
      "100%|████████████████████████████████████████| 3136/3136 [00:10<00:00, 289.98it/s]\n"
     ]
    },
    {
     "name": "stdout",
     "output_type": "stream",
     "text": [
      "There are 1287 overlaps.\n",
      "There are 5567 holes.\n",
      "Snapping all geometries to a grid with precision 10^( -3 ) to avoid GEOS errors.\n",
      "Identifying overlaps...\n"
     ]
    },
    {
     "name": "stderr",
     "output_type": "stream",
     "text": [
      "100%|█████████████████████████████████████| 10305/10305 [00:06<00:00, 1544.64it/s]\n"
     ]
    },
    {
     "name": "stdout",
     "output_type": "stream",
     "text": [
      "Resolving overlaps...\n",
      "Assigning order 2 pieces...\n",
      "Assigning order 3 pieces...\n",
      "Filling gaps...\n"
     ]
    },
    {
     "name": "stderr",
     "output_type": "stream",
     "text": [
      "Gaps to simplify: 100%|███████████████████████| 3393/3393 [27:39<00:00,  2.04it/s]\n",
      "Gaps to fill: 100%|█████████████████████████████| 522/522 [06:03<00:00,  1.43it/s]\n"
     ]
    },
    {
     "name": "stdout",
     "output_type": "stream",
     "text": [
      "WARNING: A component of the geometry at index 3122 may have been disconnected!\n"
     ]
    },
    {
     "name": "stderr",
     "output_type": "stream",
     "text": [
      "100%|████████████████████████████████████████| 3136/3136 [00:15<00:00, 204.80it/s]\n",
      "100%|████████████████████████████████████████| 3136/3136 [00:14<00:00, 219.78it/s]\n",
      "100%|█████████████████████████████████████████| 3136/3136 [01:48<00:00, 28.86it/s]\n",
      "100%|████████████████████████████████████████| 3215/3215 [00:16<00:00, 198.90it/s]\n",
      "100%|█████████████████████████████████████████| 3215/3215 [02:19<00:00, 23.09it/s]\n"
     ]
    },
    {
     "name": "stdout",
     "output_type": "stream",
     "text": [
      "population agrees\n"
     ]
    }
   ],
   "source": [
    "# check the result here\n",
    "start_col = 5\n",
    "election_df = add_vest(vest18, election_df, '18', population_df, start_col)"
   ]
  },
  {
   "cell_type": "markdown",
   "id": "017cda47-72f3-4471-b5fe-d383c62044a6",
   "metadata": {},
   "source": [
    "### vest 16"
   ]
  },
  {
   "cell_type": "code",
   "execution_count": 29,
   "id": "7033e3b9-c060-44b3-b3d5-f81368f4a3d4",
   "metadata": {},
   "outputs": [
    {
     "data": {
      "text/plain": [
       "Index(['STATEFP', 'COUNTYFP', 'VTDST', 'NAME', 'PRECINCT', 'G16PREDCLI',\n",
       "       'G16PRERTRU', 'G16PRELJOH', 'G16PREGSTE', 'G16PREUMCM', 'G16PREOOTH',\n",
       "       'G16USSDBEN', 'G16USSRGLE', 'G16USSLTAN', 'G16USSGMEN', 'G16USSOOTH',\n",
       "       'G16RGTDMAD', 'G16RGTRGAN', 'geometry'],\n",
       "      dtype='object')"
      ]
     },
     "execution_count": 29,
     "metadata": {},
     "output_type": "execute_result"
    }
   ],
   "source": [
    "vest16 = gpd.read_file(vest16_data)\n",
    "vest16.columns"
   ]
  },
  {
   "cell_type": "code",
   "execution_count": 30,
   "id": "930bb427-a1be-4de1-a713-5084a719386e",
   "metadata": {},
   "outputs": [
    {
     "name": "stderr",
     "output_type": "stream",
     "text": [
      "100%|████████████████████████████████████████| 3010/3010 [00:11<00:00, 268.27it/s]\n"
     ]
    },
    {
     "name": "stdout",
     "output_type": "stream",
     "text": [
      "There are 1889 overlaps.\n",
      "There are 8779 holes.\n",
      "Snapping all geometries to a grid with precision 10^( -3 ) to avoid GEOS errors.\n",
      "Identifying overlaps...\n"
     ]
    },
    {
     "name": "stderr",
     "output_type": "stream",
     "text": [
      "100%|█████████████████████████████████████| 14347/14347 [00:09<00:00, 1503.73it/s]\n"
     ]
    },
    {
     "name": "stdout",
     "output_type": "stream",
     "text": [
      "Resolving overlaps...\n",
      "Assigning order 2 pieces...\n",
      "Assigning order 3 pieces...\n",
      "Filling gaps...\n"
     ]
    },
    {
     "name": "stderr",
     "output_type": "stream",
     "text": [
      "Gaps to simplify: 5055it [42:04,  2.00it/s]                                       \n",
      "Gaps to fill: 100%|█████████████████████████████| 714/714 [07:09<00:00,  1.66it/s]\n"
     ]
    },
    {
     "name": "stdout",
     "output_type": "stream",
     "text": [
      "WARNING: A component of the geometry at index 2996 may have been disconnected!\n"
     ]
    },
    {
     "name": "stderr",
     "output_type": "stream",
     "text": [
      "100%|████████████████████████████████████████| 3010/3010 [00:10<00:00, 299.72it/s]\n",
      "100%|████████████████████████████████████████| 3010/3010 [00:08<00:00, 338.99it/s]\n",
      "100%|█████████████████████████████████████████| 3010/3010 [01:12<00:00, 41.31it/s]\n",
      "100%|████████████████████████████████████████| 3215/3215 [00:08<00:00, 401.70it/s]\n",
      "100%|█████████████████████████████████████████| 3215/3215 [01:13<00:00, 44.01it/s]\n"
     ]
    },
    {
     "name": "stdout",
     "output_type": "stream",
     "text": [
      "population agrees\n"
     ]
    }
   ],
   "source": [
    "start_col = 5\n",
    "election_df = add_vest(vest16, election_df, '16', population_df, start_col)"
   ]
  },
  {
   "cell_type": "markdown",
   "id": "10cf83d4-6005-485b-8193-c0149869a97e",
   "metadata": {},
   "source": [
    "## Add the district data"
   ]
  },
  {
   "cell_type": "code",
   "execution_count": 31,
   "id": "a0ccb606-7fe4-4b0a-998b-337d31f4abc5",
   "metadata": {},
   "outputs": [],
   "source": [
    "cong_df = gpd.read_file(cd_data).to_crs('EPSG:4269')\n",
    "send = gpd.read_file(send_data).to_crs('EPSG:4269')\n",
    "hdist = gpd.read_file(hdist_data).to_crs('EPSG:4269')"
   ]
  },
  {
   "cell_type": "code",
   "execution_count": 32,
   "id": "7934e27d-8008-4394-9f62-bc906792a4f9",
   "metadata": {},
   "outputs": [
    {
     "data": {
      "text/html": [
       "<div>\n",
       "<style scoped>\n",
       "    .dataframe tbody tr th:only-of-type {\n",
       "        vertical-align: middle;\n",
       "    }\n",
       "\n",
       "    .dataframe tbody tr th {\n",
       "        vertical-align: top;\n",
       "    }\n",
       "\n",
       "    .dataframe thead th {\n",
       "        text-align: right;\n",
       "    }\n",
       "</style>\n",
       "<table border=\"1\" class=\"dataframe\">\n",
       "  <thead>\n",
       "    <tr style=\"text-align: right;\">\n",
       "      <th></th>\n",
       "      <th>OBJECTID</th>\n",
       "      <th>District</th>\n",
       "      <th>Shape_Leng</th>\n",
       "      <th>Shape_Le_1</th>\n",
       "      <th>Shape_Area</th>\n",
       "      <th>geometry</th>\n",
       "    </tr>\n",
       "  </thead>\n",
       "  <tbody>\n",
       "    <tr>\n",
       "      <th>0</th>\n",
       "      <td>1</td>\n",
       "      <td>1</td>\n",
       "      <td>2.495876</td>\n",
       "      <td>7.814496e+05</td>\n",
       "      <td>4.336640e+09</td>\n",
       "      <td>POLYGON ((-104.66853 39.90689, -104.65916 39.9...</td>\n",
       "    </tr>\n",
       "    <tr>\n",
       "      <th>1</th>\n",
       "      <td>2</td>\n",
       "      <td>2</td>\n",
       "      <td>11.320395</td>\n",
       "      <td>3.521568e+06</td>\n",
       "      <td>3.218254e+11</td>\n",
       "      <td>POLYGON ((-106.97868 41.00338, -106.97421 41.0...</td>\n",
       "    </tr>\n",
       "    <tr>\n",
       "      <th>2</th>\n",
       "      <td>3</td>\n",
       "      <td>3</td>\n",
       "      <td>23.731473</td>\n",
       "      <td>7.604425e+06</td>\n",
       "      <td>1.396837e+12</td>\n",
       "      <td>POLYGON ((-107.36708 41.00307, -107.36565 41.0...</td>\n",
       "    </tr>\n",
       "    <tr>\n",
       "      <th>3</th>\n",
       "      <td>4</td>\n",
       "      <td>4</td>\n",
       "      <td>19.406221</td>\n",
       "      <td>6.234628e+06</td>\n",
       "      <td>9.005584e+11</td>\n",
       "      <td>POLYGON ((-102.59825 41.00242, -102.58208 41.0...</td>\n",
       "    </tr>\n",
       "    <tr>\n",
       "      <th>4</th>\n",
       "      <td>5</td>\n",
       "      <td>5</td>\n",
       "      <td>3.028264</td>\n",
       "      <td>9.616973e+05</td>\n",
       "      <td>4.109716e+10</td>\n",
       "      <td>POLYGON ((-104.91224 39.12984, -104.91220 39.1...</td>\n",
       "    </tr>\n",
       "  </tbody>\n",
       "</table>\n",
       "</div>"
      ],
      "text/plain": [
       "   OBJECTID  District  Shape_Leng    Shape_Le_1    Shape_Area  \\\n",
       "0         1         1    2.495876  7.814496e+05  4.336640e+09   \n",
       "1         2         2   11.320395  3.521568e+06  3.218254e+11   \n",
       "2         3         3   23.731473  7.604425e+06  1.396837e+12   \n",
       "3         4         4   19.406221  6.234628e+06  9.005584e+11   \n",
       "4         5         5    3.028264  9.616973e+05  4.109716e+10   \n",
       "\n",
       "                                            geometry  \n",
       "0  POLYGON ((-104.66853 39.90689, -104.65916 39.9...  \n",
       "1  POLYGON ((-106.97868 41.00338, -106.97421 41.0...  \n",
       "2  POLYGON ((-107.36708 41.00307, -107.36565 41.0...  \n",
       "3  POLYGON ((-102.59825 41.00242, -102.58208 41.0...  \n",
       "4  POLYGON ((-104.91224 39.12984, -104.91220 39.1...  "
      ]
     },
     "execution_count": 32,
     "metadata": {},
     "output_type": "execute_result"
    }
   ],
   "source": [
    "cong_df.head()"
   ]
  },
  {
   "cell_type": "code",
   "execution_count": 33,
   "id": "65f1891c-431d-41bf-bbd3-4117b9852d28",
   "metadata": {},
   "outputs": [
    {
     "data": {
      "text/html": [
       "<div>\n",
       "<style scoped>\n",
       "    .dataframe tbody tr th:only-of-type {\n",
       "        vertical-align: middle;\n",
       "    }\n",
       "\n",
       "    .dataframe tbody tr th {\n",
       "        vertical-align: top;\n",
       "    }\n",
       "\n",
       "    .dataframe thead th {\n",
       "        text-align: right;\n",
       "    }\n",
       "</style>\n",
       "<table border=\"1\" class=\"dataframe\">\n",
       "  <thead>\n",
       "    <tr style=\"text-align: right;\">\n",
       "      <th></th>\n",
       "      <th>OBJECTID</th>\n",
       "      <th>District</th>\n",
       "      <th>Shape_Leng</th>\n",
       "      <th>Shape_Area</th>\n",
       "      <th>geometry</th>\n",
       "    </tr>\n",
       "  </thead>\n",
       "  <tbody>\n",
       "    <tr>\n",
       "      <th>0</th>\n",
       "      <td>1</td>\n",
       "      <td>1</td>\n",
       "      <td>3.080656e+06</td>\n",
       "      <td>3.564080e+11</td>\n",
       "      <td>MULTIPOLYGON (((-104.75617 40.38518, -104.7560...</td>\n",
       "    </tr>\n",
       "    <tr>\n",
       "      <th>1</th>\n",
       "      <td>2</td>\n",
       "      <td>2</td>\n",
       "      <td>5.278787e+05</td>\n",
       "      <td>3.252466e+09</td>\n",
       "      <td>POLYGON ((-104.79284 39.56609, -104.79137 39.5...</td>\n",
       "    </tr>\n",
       "    <tr>\n",
       "      <th>2</th>\n",
       "      <td>3</td>\n",
       "      <td>3</td>\n",
       "      <td>1.099216e+06</td>\n",
       "      <td>6.685520e+10</td>\n",
       "      <td>POLYGON ((-104.07353 38.52243, -104.07248 38.5...</td>\n",
       "    </tr>\n",
       "    <tr>\n",
       "      <th>3</th>\n",
       "      <td>4</td>\n",
       "      <td>4</td>\n",
       "      <td>2.995556e+06</td>\n",
       "      <td>2.069199e+11</td>\n",
       "      <td>POLYGON ((-105.16784 39.62868, -105.16694 39.6...</td>\n",
       "    </tr>\n",
       "    <tr>\n",
       "      <th>4</th>\n",
       "      <td>5</td>\n",
       "      <td>5</td>\n",
       "      <td>3.619013e+06</td>\n",
       "      <td>2.167483e+11</td>\n",
       "      <td>POLYGON ((-107.11386 39.62420, -107.11369 39.6...</td>\n",
       "    </tr>\n",
       "  </tbody>\n",
       "</table>\n",
       "</div>"
      ],
      "text/plain": [
       "   OBJECTID  District    Shape_Leng    Shape_Area  \\\n",
       "0         1         1  3.080656e+06  3.564080e+11   \n",
       "1         2         2  5.278787e+05  3.252466e+09   \n",
       "2         3         3  1.099216e+06  6.685520e+10   \n",
       "3         4         4  2.995556e+06  2.069199e+11   \n",
       "4         5         5  3.619013e+06  2.167483e+11   \n",
       "\n",
       "                                            geometry  \n",
       "0  MULTIPOLYGON (((-104.75617 40.38518, -104.7560...  \n",
       "1  POLYGON ((-104.79284 39.56609, -104.79137 39.5...  \n",
       "2  POLYGON ((-104.07353 38.52243, -104.07248 38.5...  \n",
       "3  POLYGON ((-105.16784 39.62868, -105.16694 39.6...  \n",
       "4  POLYGON ((-107.11386 39.62420, -107.11369 39.6...  "
      ]
     },
     "execution_count": 33,
     "metadata": {},
     "output_type": "execute_result"
    }
   ],
   "source": [
    "send.head()"
   ]
  },
  {
   "cell_type": "code",
   "execution_count": 34,
   "id": "73c3715d-edc7-42a0-94bd-e928bf5df9f2",
   "metadata": {},
   "outputs": [
    {
     "data": {
      "text/html": [
       "<div>\n",
       "<style scoped>\n",
       "    .dataframe tbody tr th:only-of-type {\n",
       "        vertical-align: middle;\n",
       "    }\n",
       "\n",
       "    .dataframe tbody tr th {\n",
       "        vertical-align: top;\n",
       "    }\n",
       "\n",
       "    .dataframe thead th {\n",
       "        text-align: right;\n",
       "    }\n",
       "</style>\n",
       "<table border=\"1\" class=\"dataframe\">\n",
       "  <thead>\n",
       "    <tr style=\"text-align: right;\">\n",
       "      <th></th>\n",
       "      <th>OBJECTID</th>\n",
       "      <th>District</th>\n",
       "      <th>Shape_Leng</th>\n",
       "      <th>Shape_Area</th>\n",
       "      <th>geometry</th>\n",
       "    </tr>\n",
       "  </thead>\n",
       "  <tbody>\n",
       "    <tr>\n",
       "      <th>0</th>\n",
       "      <td>1</td>\n",
       "      <td>1</td>\n",
       "      <td>221814.501000</td>\n",
       "      <td>4.541396e+08</td>\n",
       "      <td>POLYGON ((-105.03404 39.70224, -105.03283 39.7...</td>\n",
       "    </tr>\n",
       "    <tr>\n",
       "      <th>1</th>\n",
       "      <td>2</td>\n",
       "      <td>2</td>\n",
       "      <td>93555.504961</td>\n",
       "      <td>3.488605e+08</td>\n",
       "      <td>POLYGON ((-104.96019 39.72911, -104.96019 39.7...</td>\n",
       "    </tr>\n",
       "    <tr>\n",
       "      <th>2</th>\n",
       "      <td>3</td>\n",
       "      <td>3</td>\n",
       "      <td>191869.674113</td>\n",
       "      <td>5.994867e+08</td>\n",
       "      <td>POLYGON ((-105.01570 39.67868, -105.01340 39.6...</td>\n",
       "    </tr>\n",
       "    <tr>\n",
       "      <th>3</th>\n",
       "      <td>4</td>\n",
       "      <td>4</td>\n",
       "      <td>101223.744383</td>\n",
       "      <td>3.231791e+08</td>\n",
       "      <td>POLYGON ((-105.02512 39.79111, -105.02511 39.7...</td>\n",
       "    </tr>\n",
       "    <tr>\n",
       "      <th>4</th>\n",
       "      <td>5</td>\n",
       "      <td>5</td>\n",
       "      <td>135698.713049</td>\n",
       "      <td>4.272490e+08</td>\n",
       "      <td>POLYGON ((-104.96874 39.79558, -104.96874 39.7...</td>\n",
       "    </tr>\n",
       "  </tbody>\n",
       "</table>\n",
       "</div>"
      ],
      "text/plain": [
       "   OBJECTID  District     Shape_Leng    Shape_Area  \\\n",
       "0         1         1  221814.501000  4.541396e+08   \n",
       "1         2         2   93555.504961  3.488605e+08   \n",
       "2         3         3  191869.674113  5.994867e+08   \n",
       "3         4         4  101223.744383  3.231791e+08   \n",
       "4         5         5  135698.713049  4.272490e+08   \n",
       "\n",
       "                                            geometry  \n",
       "0  POLYGON ((-105.03404 39.70224, -105.03283 39.7...  \n",
       "1  POLYGON ((-104.96019 39.72911, -104.96019 39.7...  \n",
       "2  POLYGON ((-105.01570 39.67868, -105.01340 39.6...  \n",
       "3  POLYGON ((-105.02512 39.79111, -105.02511 39.7...  \n",
       "4  POLYGON ((-104.96874 39.79558, -104.96874 39.7...  "
      ]
     },
     "execution_count": 34,
     "metadata": {},
     "output_type": "execute_result"
    }
   ],
   "source": [
    "hdist.head()"
   ]
  },
  {
   "cell_type": "code",
   "execution_count": 36,
   "id": "2b8fbf45-f392-4996-9dc6-e9ee67d0e715",
   "metadata": {
    "tags": []
   },
   "outputs": [
    {
     "name": "stderr",
     "output_type": "stream",
     "text": [
      "100%|███████████████████████████████████████████████| 8/8 [00:00<00:00, 21.94it/s]\n"
     ]
    },
    {
     "name": "stdout",
     "output_type": "stream",
     "text": [
      "There are 1 overlaps.\n",
      "There are 1 holes.\n",
      "Snapping all geometries to a grid with precision 10^( -3 ) to avoid GEOS errors.\n",
      "Identifying overlaps...\n"
     ]
    },
    {
     "name": "stderr",
     "output_type": "stream",
     "text": [
      "100%|████████████████████████████████████████████| 12/12 [00:00<00:00, 308.08it/s]\n"
     ]
    },
    {
     "name": "stdout",
     "output_type": "stream",
     "text": [
      "Resolving overlaps...\n",
      "Filling gaps...\n"
     ]
    },
    {
     "name": "stderr",
     "output_type": "stream",
     "text": [
      "Gaps to simplify: 100%|█████████████████████████████| 4/4 [00:02<00:00,  1.98it/s]\n",
      "Gaps to fill: 0it [00:00, ?it/s]\n",
      "100%|███████████████████████████████████████████████| 8/8 [00:00<00:00, 21.42it/s]\n",
      "100%|███████████████████████████████████████████████| 8/8 [00:00<00:00, 15.97it/s]\n",
      "100%|███████████████████████████████████████████████| 8/8 [00:12<00:00,  1.57s/it]\n"
     ]
    }
   ],
   "source": [
    "election_df = add_district(cong_df, \"CD\", election_df, \"District\")"
   ]
  },
  {
   "cell_type": "code",
   "execution_count": 37,
   "id": "a9fe98af-f37e-4200-835e-f96695f68e41",
   "metadata": {
    "tags": []
   },
   "outputs": [
    {
     "name": "stderr",
     "output_type": "stream",
     "text": [
      "100%|█████████████████████████████████████████████| 35/35 [00:02<00:00, 13.02it/s]\n"
     ]
    },
    {
     "name": "stdout",
     "output_type": "stream",
     "text": [
      "There are 9 overlaps.\n",
      "There are 12 holes.\n",
      "There are some invalid geometries.\n",
      "Snapping all geometries to a grid with precision 10^( -3 ) to avoid GEOS errors.\n",
      "Identifying overlaps...\n"
     ]
    },
    {
     "name": "stderr",
     "output_type": "stream",
     "text": [
      "100%|████████████████████████████████████████████| 39/39 [00:00<00:00, 336.53it/s]\n"
     ]
    },
    {
     "name": "stdout",
     "output_type": "stream",
     "text": [
      "Resolving overlaps...\n",
      "Assigning order 2 pieces...\n",
      "Filling gaps...\n"
     ]
    },
    {
     "name": "stderr",
     "output_type": "stream",
     "text": [
      "Gaps to simplify: 0it [00:00, ?it/s]\n",
      "Gaps to fill: 0it [00:00, ?it/s]\n",
      "100%|█████████████████████████████████████████████| 35/35 [00:00<00:00, 47.55it/s]\n",
      "100%|█████████████████████████████████████████████| 35/35 [00:00<00:00, 87.97it/s]\n",
      "100%|█████████████████████████████████████████████| 35/35 [00:10<00:00,  3.40it/s]\n"
     ]
    }
   ],
   "source": [
    "election_df = add_district(send, \"SEND\", election_df, \"District\")"
   ]
  },
  {
   "cell_type": "code",
   "execution_count": 38,
   "id": "da4c6235-1028-43d0-adde-affe669c3f20",
   "metadata": {
    "tags": []
   },
   "outputs": [
    {
     "name": "stderr",
     "output_type": "stream",
     "text": [
      "100%|█████████████████████████████████████████████| 65/65 [00:01<00:00, 59.90it/s]\n"
     ]
    },
    {
     "name": "stdout",
     "output_type": "stream",
     "text": [
      "There are 13 overlaps.\n",
      "There are 25 holes.\n",
      "There are some invalid geometries.\n",
      "Snapping all geometries to a grid with precision 10^( -3 ) to avoid GEOS errors.\n",
      "Identifying overlaps...\n"
     ]
    },
    {
     "name": "stderr",
     "output_type": "stream",
     "text": [
      "100%|████████████████████████████████████████████| 70/70 [00:00<00:00, 464.47it/s]"
     ]
    },
    {
     "name": "stdout",
     "output_type": "stream",
     "text": [
      "Resolving overlaps...\n",
      "Assigning order 2 pieces...\n"
     ]
    },
    {
     "name": "stderr",
     "output_type": "stream",
     "text": [
      "\n"
     ]
    },
    {
     "name": "stdout",
     "output_type": "stream",
     "text": [
      "Filling gaps...\n"
     ]
    },
    {
     "name": "stderr",
     "output_type": "stream",
     "text": [
      "Gaps to simplify: 100%|█████████████████████████████| 3/3 [00:00<00:00,  5.43it/s]\n",
      "Gaps to fill: 100%|█████████████████████████████████| 1/1 [00:00<00:00,  5.78it/s]\n",
      "100%|█████████████████████████████████████████████| 65/65 [00:00<00:00, 68.47it/s]\n",
      "100%|████████████████████████████████████████████| 65/65 [00:00<00:00, 168.01it/s]\n",
      "100%|█████████████████████████████████████████████| 65/65 [00:10<00:00,  6.25it/s]\n"
     ]
    }
   ],
   "source": [
    "election_df = add_district(hdist, \"HDIST\", election_df, \"District\")"
   ]
  },
  {
   "cell_type": "code",
   "execution_count": 40,
   "id": "aaee6a30-6a18-473e-bd02-7881c1e94e68",
   "metadata": {},
   "outputs": [
    {
     "data": {
      "text/plain": [
       "['2MOREVAP',\n",
       " 'AMINVAP',\n",
       " 'ASIANVAP',\n",
       " 'ATG18D',\n",
       " 'ATG18O',\n",
       " 'ATG18R',\n",
       " 'BVAP',\n",
       " 'COUNTYFP',\n",
       " 'GOV18D',\n",
       " 'GOV18O',\n",
       " 'GOV18R',\n",
       " 'HISP',\n",
       " 'HVAP',\n",
       " 'H_2MORE',\n",
       " 'H_AMIN',\n",
       " 'H_ASIAN',\n",
       " 'H_BLACK',\n",
       " 'H_NHPI',\n",
       " 'H_OTHER',\n",
       " 'H_WHITE',\n",
       " 'NAME',\n",
       " 'NHPIVAP',\n",
       " 'NH_2MORE',\n",
       " 'NH_AMIN',\n",
       " 'NH_ASIAN',\n",
       " 'NH_BLACK',\n",
       " 'NH_NHPI',\n",
       " 'NH_OTHER',\n",
       " 'NH_WHITE',\n",
       " 'OTHERVAP',\n",
       " 'PRE16D',\n",
       " 'PRE16O',\n",
       " 'PRE16R',\n",
       " 'PRE20D',\n",
       " 'PRE20O',\n",
       " 'PRE20R',\n",
       " 'PRECINCT',\n",
       " 'RGT16D',\n",
       " 'RGT16R',\n",
       " 'RGT18D',\n",
       " 'RGT18O',\n",
       " 'RGT18R',\n",
       " 'SOS18D',\n",
       " 'SOS18O',\n",
       " 'SOS18R',\n",
       " 'STATEFP',\n",
       " 'TOTPOP',\n",
       " 'TRE18D',\n",
       " 'TRE18O',\n",
       " 'TRE18R',\n",
       " 'USS16D',\n",
       " 'USS16O',\n",
       " 'USS16R',\n",
       " 'USS20D',\n",
       " 'USS20O',\n",
       " 'USS20R',\n",
       " 'VAP',\n",
       " 'VTDST',\n",
       " 'WVAP',\n",
       " 'geometry',\n",
       " 'CD',\n",
       " 'SEND',\n",
       " 'HDIST']"
      ]
     },
     "execution_count": 40,
     "metadata": {},
     "output_type": "execute_result"
    }
   ],
   "source": [
    "list(election_df.columns)"
   ]
  },
  {
   "cell_type": "code",
   "execution_count": 55,
   "id": "3c5c6417-69a0-4f4a-8b52-3ac22e99c1fc",
   "metadata": {},
   "outputs": [],
   "source": [
    "base_columns = {}\n",
    "if 'COUNTYFP' + year not in election_df.columns:\n",
    "    base_columns = {\n",
    "        'STATEFP':'STATEFP'+year,\n",
    "        'COUNTYFP':'COUNTYFP'+year,\n",
    "        'PRECINCT':'PRECINCT'+year,\n",
    "        'GEOID':'GEOID'+year,\n",
    "        'NAME':'NAME'+year,\n",
    "        'VTDST':'VTDST'+year\n",
    "    }\n",
    "election_df.rename(columns=base_columns, inplace = True)"
   ]
  },
  {
   "cell_type": "code",
   "execution_count": 56,
   "id": "3ea62760-cc32-4fcc-8475-c3ba956cb901",
   "metadata": {},
   "outputs": [],
   "source": [
    "# reorder the columns\n",
    "\n",
    "fixed_columns = [\n",
    "    'STATEFP'+year,\n",
    "    'COUNTYFP'+year,\n",
    "    'PRECINCT'+year,\n",
    "    'VTDST'+year,\n",
    "    # 'GEOID'+year,\n",
    "    'NAME'+year,\n",
    "    'CD',\n",
    "    'SEND',\n",
    "    'HDIST',\n",
    "    'TOTPOP',\n",
    "    'NH_2MORE',\n",
    "    'NH_AMIN',\n",
    "    'NH_ASIAN',\n",
    "    'NH_BLACK',\n",
    "    'NH_NHPI',\n",
    "    'NH_OTHER',\n",
    "    'NH_WHITE',\n",
    "    'HISP',\n",
    "    'H_AMIN',\n",
    "    'H_ASIAN',\n",
    "    'H_BLACK',\n",
    "    'H_NHPI',\n",
    "    'H_OTHER',\n",
    "    'H_WHITE',\n",
    "    'H_2MORE',\n",
    "    'VAP',\n",
    "    'HVAP',\n",
    "    'WVAP',\n",
    "    'BVAP',\n",
    "    'AMINVAP',\n",
    "    'ASIANVAP',\n",
    "    'NHPIVAP',\n",
    "    'OTHERVAP',\n",
    "    '2MOREVAP']\n",
    "\n",
    "election_columns = [col for col in election_df.columns if col not in fixed_columns]\n",
    "final_col = fixed_columns + election_columns\n",
    "election_df = election_df[final_col]"
   ]
  },
  {
   "cell_type": "code",
   "execution_count": 57,
   "id": "7865b9d6-11d8-48f9-854f-688d2a9ef3ef",
   "metadata": {},
   "outputs": [
    {
     "data": {
      "text/plain": [
       "['STATEFP20',\n",
       " 'COUNTYFP20',\n",
       " 'PRECINCT20',\n",
       " 'VTDST20',\n",
       " 'NAME20',\n",
       " 'CD',\n",
       " 'SEND',\n",
       " 'HDIST',\n",
       " 'TOTPOP',\n",
       " 'NH_2MORE',\n",
       " 'NH_AMIN',\n",
       " 'NH_ASIAN',\n",
       " 'NH_BLACK',\n",
       " 'NH_NHPI',\n",
       " 'NH_OTHER',\n",
       " 'NH_WHITE',\n",
       " 'HISP',\n",
       " 'H_AMIN',\n",
       " 'H_ASIAN',\n",
       " 'H_BLACK',\n",
       " 'H_NHPI',\n",
       " 'H_OTHER',\n",
       " 'H_WHITE',\n",
       " 'H_2MORE',\n",
       " 'VAP',\n",
       " 'HVAP',\n",
       " 'WVAP',\n",
       " 'BVAP',\n",
       " 'AMINVAP',\n",
       " 'ASIANVAP',\n",
       " 'NHPIVAP',\n",
       " 'OTHERVAP',\n",
       " '2MOREVAP',\n",
       " 'ATG18D',\n",
       " 'ATG18O',\n",
       " 'ATG18R',\n",
       " 'GOV18D',\n",
       " 'GOV18O',\n",
       " 'GOV18R',\n",
       " 'PRE16D',\n",
       " 'PRE16O',\n",
       " 'PRE16R',\n",
       " 'PRE20D',\n",
       " 'PRE20O',\n",
       " 'PRE20R',\n",
       " 'RGT16D',\n",
       " 'RGT16R',\n",
       " 'RGT18D',\n",
       " 'RGT18O',\n",
       " 'RGT18R',\n",
       " 'SOS18D',\n",
       " 'SOS18O',\n",
       " 'SOS18R',\n",
       " 'TRE18D',\n",
       " 'TRE18O',\n",
       " 'TRE18R',\n",
       " 'USS16D',\n",
       " 'USS16O',\n",
       " 'USS16R',\n",
       " 'USS20D',\n",
       " 'USS20O',\n",
       " 'USS20R',\n",
       " 'geometry']"
      ]
     },
     "execution_count": 57,
     "metadata": {},
     "output_type": "execute_result"
    }
   ],
   "source": [
    "list(election_df.columns)"
   ]
  },
  {
   "cell_type": "code",
   "execution_count": 59,
   "id": "1b198042-dbd4-408e-bfd4-4494f2b49245",
   "metadata": {
    "tags": []
   },
   "outputs": [],
   "source": [
    "# store the result in directory \"{state abbreviation}\"\n",
    "os.makedirs(\"./{}\".format(state_ab))\n",
    "election_df.to_file(\"./{}/{}.shp\".format(state_ab, state_ab))\n",
    "election_df.to_file('./{}/{}.geojson'.format(state_ab, state_ab), driver='GeoJSON')\n",
    "\n",
    "# Only do once to build json and read from file when generating ensembles\n",
    "graph = Graph.from_file(\"./{}/{}.shp\".format(state_ab, state_ab), ignore_errors=True)\n",
    "graph.to_json(\"./{}/{}.json\".format(state_ab, state_ab))"
   ]
  },
  {
   "cell_type": "code",
   "execution_count": null,
   "id": "a8ba4789-8282-428a-90d4-e59ee50f4064",
   "metadata": {},
   "outputs": [],
   "source": []
  }
 ],
 "metadata": {
  "kernelspec": {
   "display_name": "maup",
   "language": "python",
   "name": "maup"
  },
  "language_info": {
   "codemirror_mode": {
    "name": "ipython",
    "version": 3
   },
   "file_extension": ".py",
   "mimetype": "text/x-python",
   "name": "python",
   "nbconvert_exporter": "python",
   "pygments_lexer": "ipython3",
   "version": "3.9.12"
  }
 },
 "nbformat": 4,
 "nbformat_minor": 5
}
